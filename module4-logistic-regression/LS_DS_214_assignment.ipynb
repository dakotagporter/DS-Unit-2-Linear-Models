{
 "cells": [
  {
   "cell_type": "markdown",
   "metadata": {
    "id": "ZYVqG_8Yoo5_"
   },
   "source": [
    "Lambda School Data Science\n",
    "\n",
    "*Unit 2, Sprint 1, Module 4*\n",
    "\n",
    "---"
   ]
  },
  {
   "cell_type": "markdown",
   "metadata": {
    "id": "7IXUfiQ2UKj6"
   },
   "source": [
    "# Logistic Regression\n",
    "\n",
    "\n",
    "## Assignment 🌯\n",
    "\n",
    "You'll use a [**dataset of 400+ burrito reviews**](https://srcole.github.io/100burritos/). How accurately can you predict whether a burrito is rated 'Great'?\n",
    "\n",
    "> We have developed a 10-dimensional system for rating the burritos in San Diego. ... Generate models for what makes a burrito great and investigate correlations in its dimensions.\n",
    "\n",
    "- [ ] Do train/validate/test split. Train on reviews from 2016 & earlier. Validate on 2017. Test on 2018 & later.\n",
    "- [ ] Begin with baselines for classification.\n",
    "- [ ] Use scikit-learn for logistic regression.\n",
    "- [ ] Get your model's validation accuracy. (Multiple times if you try multiple iterations.)\n",
    "- [ ] Get your model's test accuracy. (One time, at the end.)\n",
    "- [ ] Commit your notebook to your fork of the GitHub repo.\n",
    "\n",
    "\n",
    "## Stretch Goals\n",
    "\n",
    "- [ ] Add your own stretch goal(s) !\n",
    "- [ ] Make exploratory visualizations.\n",
    "- [ ] Do one-hot encoding.\n",
    "- [ ] Do [feature scaling](https://scikit-learn.org/stable/modules/preprocessing.html).\n",
    "- [ ] Get and plot your coefficients.\n",
    "- [ ] Try [scikit-learn pipelines](https://scikit-learn.org/stable/modules/compose.html)."
   ]
  },
  {
   "cell_type": "markdown",
   "metadata": {
    "id": "PITUhNgqpPmy"
   },
   "source": [
    "#Import and Wrangle"
   ]
  },
  {
   "cell_type": "code",
   "execution_count": 15,
   "metadata": {
    "id": "o9eSnDYhUGD7"
   },
   "outputs": [],
   "source": [
    "%%capture\n",
    "import sys\n",
    "\n",
    "# If you're on Colab:\n",
    "if 'google.colab' in sys.modules:\n",
    "    DATA_PATH = 'https://raw.githubusercontent.com/LambdaSchool/DS-Unit-2-Linear-Models/master/data/'\n",
    "    !pip install category_encoders==2.*\n",
    "\n",
    "# If you're working locally:\n",
    "else:\n",
    "    DATA_PATH = '../data/'"
   ]
  },
  {
   "cell_type": "code",
   "execution_count": 16,
   "metadata": {
    "id": "uyF7vWTSoo6D"
   },
   "outputs": [],
   "source": [
    "# Load data downloaded from https://srcole.github.io/100burritos/\n",
    "import pandas as pd\n",
    "df = pd.read_csv(DATA_PATH+'burritos/burritos.csv',\n",
    "                 parse_dates=['Date'],\n",
    "                 index_col='Date')"
   ]
  },
  {
   "cell_type": "code",
   "execution_count": 17,
   "metadata": {
    "id": "HuRlHS-Uoo6H"
   },
   "outputs": [],
   "source": [
    "# Derive binary classification target:\n",
    "# We define a 'Great' burrito as having an\n",
    "# overall rating of 4 or higher, on a 5 point scale.\n",
    "# Drop unrated burritos.\n",
    "df = df.dropna(subset=['overall'])\n",
    "df['Great'] = df['overall'] >= 4"
   ]
  },
  {
   "cell_type": "code",
   "execution_count": 18,
   "metadata": {
    "id": "vHwgyGsmoo6K"
   },
   "outputs": [],
   "source": [
    "# Clean/combine the Burrito categories\n",
    "df['Burrito'] = df['Burrito'].str.lower()\n",
    "\n",
    "california = df['Burrito'].str.contains('california')\n",
    "asada = df['Burrito'].str.contains('asada')\n",
    "surf = df['Burrito'].str.contains('surf')\n",
    "carnitas = df['Burrito'].str.contains('carnitas')\n",
    "\n",
    "df.loc[california, 'Burrito'] = 'California'\n",
    "df.loc[asada, 'Burrito'] = 'Asada'\n",
    "df.loc[surf, 'Burrito'] = 'Surf & Turf'\n",
    "df.loc[carnitas, 'Burrito'] = 'Carnitas'\n",
    "df.loc[~california & ~asada & ~surf & ~carnitas, 'Burrito'] = 'Other'"
   ]
  },
  {
   "cell_type": "code",
   "execution_count": 5,
   "metadata": {
    "id": "jn6rKY1Doo6M"
   },
   "outputs": [],
   "source": [
    "# Drop some high cardinality categoricals\n",
    "df = df.drop(columns=['Notes', 'Location', 'Reviewer', 'Address', 'URL', 'Neighborhood', 'Mass (g)', 'Density (g/mL)', 'Unreliable', 'NonSD'])"
   ]
  },
  {
   "cell_type": "code",
   "execution_count": 6,
   "metadata": {
    "id": "u5ZJoXMDoo6O"
   },
   "outputs": [],
   "source": [
    "# Drop some columns to prevent \"leakage\"\n",
    "df = df.drop(columns=['Rec', 'overall'])"
   ]
  },
  {
   "cell_type": "code",
   "execution_count": 19,
   "metadata": {
    "colab": {
     "base_uri": "https://localhost:8080/",
     "height": 362
    },
    "id": "_EIROViQoo6R",
    "outputId": "db7a30e8-170a-45f5-8d1f-d6aeb818dbe6"
   },
   "outputs": [
    {
     "name": "stdout",
     "output_type": "stream",
     "text": [
      "(421, 66)\n"
     ]
    },
    {
     "data": {
      "text/html": [
       "<div>\n",
       "<style scoped>\n",
       "    .dataframe tbody tr th:only-of-type {\n",
       "        vertical-align: middle;\n",
       "    }\n",
       "\n",
       "    .dataframe tbody tr th {\n",
       "        vertical-align: top;\n",
       "    }\n",
       "\n",
       "    .dataframe thead th {\n",
       "        text-align: right;\n",
       "    }\n",
       "</style>\n",
       "<table border=\"1\" class=\"dataframe\">\n",
       "  <thead>\n",
       "    <tr style=\"text-align: right;\">\n",
       "      <th></th>\n",
       "      <th>Location</th>\n",
       "      <th>Burrito</th>\n",
       "      <th>Neighborhood</th>\n",
       "      <th>Address</th>\n",
       "      <th>URL</th>\n",
       "      <th>Yelp</th>\n",
       "      <th>Google</th>\n",
       "      <th>Chips</th>\n",
       "      <th>Cost</th>\n",
       "      <th>Hunger</th>\n",
       "      <th>...</th>\n",
       "      <th>Lobster</th>\n",
       "      <th>Queso</th>\n",
       "      <th>Egg</th>\n",
       "      <th>Mushroom</th>\n",
       "      <th>Bacon</th>\n",
       "      <th>Sushi</th>\n",
       "      <th>Avocado</th>\n",
       "      <th>Corn</th>\n",
       "      <th>Zucchini</th>\n",
       "      <th>Great</th>\n",
       "    </tr>\n",
       "    <tr>\n",
       "      <th>Date</th>\n",
       "      <th></th>\n",
       "      <th></th>\n",
       "      <th></th>\n",
       "      <th></th>\n",
       "      <th></th>\n",
       "      <th></th>\n",
       "      <th></th>\n",
       "      <th></th>\n",
       "      <th></th>\n",
       "      <th></th>\n",
       "      <th></th>\n",
       "      <th></th>\n",
       "      <th></th>\n",
       "      <th></th>\n",
       "      <th></th>\n",
       "      <th></th>\n",
       "      <th></th>\n",
       "      <th></th>\n",
       "      <th></th>\n",
       "      <th></th>\n",
       "      <th></th>\n",
       "    </tr>\n",
       "  </thead>\n",
       "  <tbody>\n",
       "    <tr>\n",
       "      <th>2016-01-18</th>\n",
       "      <td>Donato's taco shop</td>\n",
       "      <td>California</td>\n",
       "      <td>Miramar</td>\n",
       "      <td>6780 Miramar Rd</td>\n",
       "      <td>http://donatostacoshop.net/</td>\n",
       "      <td>3.5</td>\n",
       "      <td>4.2</td>\n",
       "      <td>NaN</td>\n",
       "      <td>6.49</td>\n",
       "      <td>3.0</td>\n",
       "      <td>...</td>\n",
       "      <td>NaN</td>\n",
       "      <td>NaN</td>\n",
       "      <td>NaN</td>\n",
       "      <td>NaN</td>\n",
       "      <td>NaN</td>\n",
       "      <td>NaN</td>\n",
       "      <td>NaN</td>\n",
       "      <td>NaN</td>\n",
       "      <td>NaN</td>\n",
       "      <td>False</td>\n",
       "    </tr>\n",
       "    <tr>\n",
       "      <th>2016-01-24</th>\n",
       "      <td>Oscar's Mexican food</td>\n",
       "      <td>California</td>\n",
       "      <td>San Marcos</td>\n",
       "      <td>225 S Rancho Santa Fe Rd</td>\n",
       "      <td>http://www.yelp.com/biz/oscars-mexican-food-sa...</td>\n",
       "      <td>3.5</td>\n",
       "      <td>3.3</td>\n",
       "      <td>NaN</td>\n",
       "      <td>5.45</td>\n",
       "      <td>3.5</td>\n",
       "      <td>...</td>\n",
       "      <td>NaN</td>\n",
       "      <td>NaN</td>\n",
       "      <td>NaN</td>\n",
       "      <td>NaN</td>\n",
       "      <td>NaN</td>\n",
       "      <td>NaN</td>\n",
       "      <td>NaN</td>\n",
       "      <td>NaN</td>\n",
       "      <td>NaN</td>\n",
       "      <td>False</td>\n",
       "    </tr>\n",
       "    <tr>\n",
       "      <th>2016-01-24</th>\n",
       "      <td>Oscar's Mexican food</td>\n",
       "      <td>Carnitas</td>\n",
       "      <td>NaN</td>\n",
       "      <td>NaN</td>\n",
       "      <td>NaN</td>\n",
       "      <td>NaN</td>\n",
       "      <td>NaN</td>\n",
       "      <td>NaN</td>\n",
       "      <td>4.85</td>\n",
       "      <td>1.5</td>\n",
       "      <td>...</td>\n",
       "      <td>NaN</td>\n",
       "      <td>NaN</td>\n",
       "      <td>NaN</td>\n",
       "      <td>NaN</td>\n",
       "      <td>NaN</td>\n",
       "      <td>NaN</td>\n",
       "      <td>NaN</td>\n",
       "      <td>NaN</td>\n",
       "      <td>NaN</td>\n",
       "      <td>False</td>\n",
       "    </tr>\n",
       "    <tr>\n",
       "      <th>2016-01-24</th>\n",
       "      <td>Oscar's Mexican food</td>\n",
       "      <td>Asada</td>\n",
       "      <td>NaN</td>\n",
       "      <td>NaN</td>\n",
       "      <td>NaN</td>\n",
       "      <td>NaN</td>\n",
       "      <td>NaN</td>\n",
       "      <td>NaN</td>\n",
       "      <td>5.25</td>\n",
       "      <td>2.0</td>\n",
       "      <td>...</td>\n",
       "      <td>NaN</td>\n",
       "      <td>NaN</td>\n",
       "      <td>NaN</td>\n",
       "      <td>NaN</td>\n",
       "      <td>NaN</td>\n",
       "      <td>NaN</td>\n",
       "      <td>NaN</td>\n",
       "      <td>NaN</td>\n",
       "      <td>NaN</td>\n",
       "      <td>False</td>\n",
       "    </tr>\n",
       "    <tr>\n",
       "      <th>2016-01-27</th>\n",
       "      <td>Pollos Maria</td>\n",
       "      <td>California</td>\n",
       "      <td>Carlsbad</td>\n",
       "      <td>3055 Harding St</td>\n",
       "      <td>http://pollosmaria.com/</td>\n",
       "      <td>4.0</td>\n",
       "      <td>3.8</td>\n",
       "      <td>x</td>\n",
       "      <td>6.59</td>\n",
       "      <td>4.0</td>\n",
       "      <td>...</td>\n",
       "      <td>NaN</td>\n",
       "      <td>NaN</td>\n",
       "      <td>NaN</td>\n",
       "      <td>NaN</td>\n",
       "      <td>NaN</td>\n",
       "      <td>NaN</td>\n",
       "      <td>NaN</td>\n",
       "      <td>NaN</td>\n",
       "      <td>NaN</td>\n",
       "      <td>True</td>\n",
       "    </tr>\n",
       "  </tbody>\n",
       "</table>\n",
       "<p>5 rows × 66 columns</p>\n",
       "</div>"
      ],
      "text/plain": [
       "                        Location     Burrito Neighborhood  \\\n",
       "Date                                                        \n",
       "2016-01-18    Donato's taco shop  California      Miramar   \n",
       "2016-01-24  Oscar's Mexican food  California   San Marcos   \n",
       "2016-01-24  Oscar's Mexican food    Carnitas          NaN   \n",
       "2016-01-24  Oscar's Mexican food       Asada          NaN   \n",
       "2016-01-27          Pollos Maria  California     Carlsbad   \n",
       "\n",
       "                             Address  \\\n",
       "Date                                   \n",
       "2016-01-18           6780 Miramar Rd   \n",
       "2016-01-24  225 S Rancho Santa Fe Rd   \n",
       "2016-01-24                       NaN   \n",
       "2016-01-24                       NaN   \n",
       "2016-01-27           3055 Harding St   \n",
       "\n",
       "                                                          URL  Yelp  Google  \\\n",
       "Date                                                                          \n",
       "2016-01-18                        http://donatostacoshop.net/   3.5     4.2   \n",
       "2016-01-24  http://www.yelp.com/biz/oscars-mexican-food-sa...   3.5     3.3   \n",
       "2016-01-24                                                NaN   NaN     NaN   \n",
       "2016-01-24                                                NaN   NaN     NaN   \n",
       "2016-01-27                            http://pollosmaria.com/   4.0     3.8   \n",
       "\n",
       "           Chips  Cost  Hunger  ...  Lobster  Queso  Egg  Mushroom  Bacon  \\\n",
       "Date                            ...                                         \n",
       "2016-01-18   NaN  6.49     3.0  ...      NaN    NaN  NaN       NaN    NaN   \n",
       "2016-01-24   NaN  5.45     3.5  ...      NaN    NaN  NaN       NaN    NaN   \n",
       "2016-01-24   NaN  4.85     1.5  ...      NaN    NaN  NaN       NaN    NaN   \n",
       "2016-01-24   NaN  5.25     2.0  ...      NaN    NaN  NaN       NaN    NaN   \n",
       "2016-01-27     x  6.59     4.0  ...      NaN    NaN  NaN       NaN    NaN   \n",
       "\n",
       "            Sushi  Avocado  Corn  Zucchini  Great  \n",
       "Date                                               \n",
       "2016-01-18    NaN      NaN   NaN       NaN  False  \n",
       "2016-01-24    NaN      NaN   NaN       NaN  False  \n",
       "2016-01-24    NaN      NaN   NaN       NaN  False  \n",
       "2016-01-24    NaN      NaN   NaN       NaN  False  \n",
       "2016-01-27    NaN      NaN   NaN       NaN   True  \n",
       "\n",
       "[5 rows x 66 columns]"
      ]
     },
     "execution_count": 19,
     "metadata": {},
     "output_type": "execute_result"
    }
   ],
   "source": [
    "print(df.shape)\n",
    "df.head(5)"
   ]
  },
  {
   "cell_type": "code",
   "execution_count": 8,
   "metadata": {
    "colab": {
     "base_uri": "https://localhost:8080/"
    },
    "id": "9txPHIunpdva",
    "outputId": "1b66e489-02f5-4540-f0b4-83b274159501"
   },
   "outputs": [
    {
     "name": "stdout",
     "output_type": "stream",
     "text": [
      "<class 'pandas.core.frame.DataFrame'>\n",
      "DatetimeIndex: 421 entries, 2016-01-18 to 2019-08-27\n",
      "Data columns (total 54 columns):\n",
      " #   Column         Non-Null Count  Dtype  \n",
      "---  ------         --------------  -----  \n",
      " 0   Burrito        421 non-null    object \n",
      " 1   Yelp           87 non-null     float64\n",
      " 2   Google         87 non-null     float64\n",
      " 3   Chips          26 non-null     object \n",
      " 4   Cost           414 non-null    float64\n",
      " 5   Hunger         418 non-null    float64\n",
      " 6   Length         283 non-null    float64\n",
      " 7   Circum         281 non-null    float64\n",
      " 8   Volume         281 non-null    float64\n",
      " 9   Tortilla       421 non-null    float64\n",
      " 10  Temp           401 non-null    float64\n",
      " 11  Meat           407 non-null    float64\n",
      " 12  Fillings       418 non-null    float64\n",
      " 13  Meat:filling   412 non-null    float64\n",
      " 14  Uniformity     419 non-null    float64\n",
      " 15  Salsa          396 non-null    float64\n",
      " 16  Synergy        419 non-null    float64\n",
      " 17  Wrap           418 non-null    float64\n",
      " 18  Beef           179 non-null    object \n",
      " 19  Pico           158 non-null    object \n",
      " 20  Guac           154 non-null    object \n",
      " 21  Cheese         159 non-null    object \n",
      " 22  Fries          127 non-null    object \n",
      " 23  Sour cream     92 non-null     object \n",
      " 24  Pork           51 non-null     object \n",
      " 25  Chicken        21 non-null     object \n",
      " 26  Shrimp         21 non-null     object \n",
      " 27  Fish           6 non-null      object \n",
      " 28  Rice           36 non-null     object \n",
      " 29  Beans          35 non-null     object \n",
      " 30  Lettuce        11 non-null     object \n",
      " 31  Tomato         7 non-null      object \n",
      " 32  Bell peper     7 non-null      object \n",
      " 33  Carrots        1 non-null      object \n",
      " 34  Cabbage        8 non-null      object \n",
      " 35  Sauce          38 non-null     object \n",
      " 36  Salsa.1        7 non-null      object \n",
      " 37  Cilantro       15 non-null     object \n",
      " 38  Onion          17 non-null     object \n",
      " 39  Taquito        4 non-null      object \n",
      " 40  Pineapple      7 non-null      object \n",
      " 41  Ham            2 non-null      object \n",
      " 42  Chile relleno  4 non-null      object \n",
      " 43  Nopales        4 non-null      object \n",
      " 44  Lobster        1 non-null      object \n",
      " 45  Queso          0 non-null      float64\n",
      " 46  Egg            5 non-null      object \n",
      " 47  Mushroom       3 non-null      object \n",
      " 48  Bacon          3 non-null      object \n",
      " 49  Sushi          2 non-null      object \n",
      " 50  Avocado        13 non-null     object \n",
      " 51  Corn           3 non-null      object \n",
      " 52  Zucchini       1 non-null      object \n",
      " 53  Great          421 non-null    bool   \n",
      "dtypes: bool(1), float64(17), object(36)\n",
      "memory usage: 178.0+ KB\n"
     ]
    }
   ],
   "source": [
    "## Check for null values or any other removable columns\n",
    "df.info()"
   ]
  },
  {
   "cell_type": "code",
   "execution_count": 9,
   "metadata": {
    "id": "v1HqblAPqIQ-"
   },
   "outputs": [],
   "source": [
    "## Assuming all ingredients columns have an X meaning included and a NaN for not included\n",
    "## Change all X's to 1's and NaN's to 0's\n",
    "for col in list(df.columns[18:53]):\n",
    "  df[col] = [1 if val=='X' or val=='x' else 0 for val in df[col]]"
   ]
  },
  {
   "cell_type": "code",
   "execution_count": 10,
   "metadata": {
    "id": "I1sm0jl6_adX"
   },
   "outputs": [],
   "source": [
    "## We can use an imputer on Yelp, Google, etc.\n",
    "## Change Chips col like the others\n",
    "df['Chips'] = [1 if val=='X' or val=='x' else 0 for val in df['Chips']]"
   ]
  },
  {
   "cell_type": "code",
   "execution_count": 11,
   "metadata": {
    "colab": {
     "base_uri": "https://localhost:8080/"
    },
    "id": "RLFSwtJj0NHg",
    "outputId": "b431b637-ecc3-4acd-88a1-6c281a2beb0a"
   },
   "outputs": [
    {
     "data": {
      "text/plain": [
       "0    404\n",
       "1     17\n",
       "Name: Onion, dtype: int64"
      ]
     },
     "execution_count": 11,
     "metadata": {
      "tags": []
     },
     "output_type": "execute_result"
    }
   ],
   "source": [
    "## Test column counts to df.info() above\n",
    "df['Onion'].value_counts()"
   ]
  },
  {
   "cell_type": "code",
   "execution_count": 12,
   "metadata": {
    "colab": {
     "base_uri": "https://localhost:8080/"
    },
    "id": "O7sFVC4mBf8H",
    "outputId": "e74c9925-1885-49a5-c38a-c24bed4e18ac"
   },
   "outputs": [
    {
     "name": "stdout",
     "output_type": "stream",
     "text": [
      "<class 'pandas.core.frame.DataFrame'>\n",
      "DatetimeIndex: 421 entries, 2016-01-18 to 2019-08-27\n",
      "Data columns (total 54 columns):\n",
      " #   Column         Non-Null Count  Dtype  \n",
      "---  ------         --------------  -----  \n",
      " 0   Burrito        421 non-null    object \n",
      " 1   Yelp           87 non-null     float64\n",
      " 2   Google         87 non-null     float64\n",
      " 3   Chips          421 non-null    int64  \n",
      " 4   Cost           414 non-null    float64\n",
      " 5   Hunger         418 non-null    float64\n",
      " 6   Length         283 non-null    float64\n",
      " 7   Circum         281 non-null    float64\n",
      " 8   Volume         281 non-null    float64\n",
      " 9   Tortilla       421 non-null    float64\n",
      " 10  Temp           401 non-null    float64\n",
      " 11  Meat           407 non-null    float64\n",
      " 12  Fillings       418 non-null    float64\n",
      " 13  Meat:filling   412 non-null    float64\n",
      " 14  Uniformity     419 non-null    float64\n",
      " 15  Salsa          396 non-null    float64\n",
      " 16  Synergy        419 non-null    float64\n",
      " 17  Wrap           418 non-null    float64\n",
      " 18  Beef           421 non-null    int64  \n",
      " 19  Pico           421 non-null    int64  \n",
      " 20  Guac           421 non-null    int64  \n",
      " 21  Cheese         421 non-null    int64  \n",
      " 22  Fries          421 non-null    int64  \n",
      " 23  Sour cream     421 non-null    int64  \n",
      " 24  Pork           421 non-null    int64  \n",
      " 25  Chicken        421 non-null    int64  \n",
      " 26  Shrimp         421 non-null    int64  \n",
      " 27  Fish           421 non-null    int64  \n",
      " 28  Rice           421 non-null    int64  \n",
      " 29  Beans          421 non-null    int64  \n",
      " 30  Lettuce        421 non-null    int64  \n",
      " 31  Tomato         421 non-null    int64  \n",
      " 32  Bell peper     421 non-null    int64  \n",
      " 33  Carrots        421 non-null    int64  \n",
      " 34  Cabbage        421 non-null    int64  \n",
      " 35  Sauce          421 non-null    int64  \n",
      " 36  Salsa.1        421 non-null    int64  \n",
      " 37  Cilantro       421 non-null    int64  \n",
      " 38  Onion          421 non-null    int64  \n",
      " 39  Taquito        421 non-null    int64  \n",
      " 40  Pineapple      421 non-null    int64  \n",
      " 41  Ham            421 non-null    int64  \n",
      " 42  Chile relleno  421 non-null    int64  \n",
      " 43  Nopales        421 non-null    int64  \n",
      " 44  Lobster        421 non-null    int64  \n",
      " 45  Queso          421 non-null    int64  \n",
      " 46  Egg            421 non-null    int64  \n",
      " 47  Mushroom       421 non-null    int64  \n",
      " 48  Bacon          421 non-null    int64  \n",
      " 49  Sushi          421 non-null    int64  \n",
      " 50  Avocado        421 non-null    int64  \n",
      " 51  Corn           421 non-null    int64  \n",
      " 52  Zucchini       421 non-null    int64  \n",
      " 53  Great          421 non-null    bool   \n",
      "dtypes: bool(1), float64(16), int64(36), object(1)\n",
      "memory usage: 178.0+ KB\n"
     ]
    }
   ],
   "source": [
    "## All the rest of the columns can be filled by the imputer\n",
    "df.info()"
   ]
  },
  {
   "cell_type": "markdown",
   "metadata": {
    "id": "3AGukhpbs8fX"
   },
   "source": [
    "#Split"
   ]
  },
  {
   "cell_type": "code",
   "execution_count": 10,
   "metadata": {
    "id": "WPznMfsHCYrT"
   },
   "outputs": [],
   "source": [
    "## Split data into Train/Test/Validate\n",
    "dfs = []\n",
    "\n",
    "dfs.append(df[df.index.year <= 2016])\n",
    "dfs.append(df[df.index.year == 2017])\n",
    "dfs.append(df[df.index.year >= 2018])"
   ]
  },
  {
   "cell_type": "code",
   "execution_count": 11,
   "metadata": {
    "id": "FqcgyzJOr7Tw"
   },
   "outputs": [],
   "source": [
    "## Further split data into target vectors and feature matrices\n",
    "target = 'Great'\n",
    "\n",
    "def split_data(dfs):\n",
    "  return dfs.drop(columns=target), dfs[target]\n",
    "\n",
    "X_train, y_train = split_data(dfs[0])\n",
    "X_val, y_val = split_data(dfs[1])\n",
    "X_test, y_test = split_data(dfs[2])"
   ]
  },
  {
   "cell_type": "code",
   "execution_count": 12,
   "metadata": {
    "id": "_eW51sbSCPFB"
   },
   "outputs": [],
   "source": [
    "assert len(X_train) + len(X_val) + len(X_test) == len(df)"
   ]
  },
  {
   "cell_type": "markdown",
   "metadata": {
    "id": "rb9P2z-SGS8m"
   },
   "source": [
    "#Baseline"
   ]
  },
  {
   "cell_type": "code",
   "execution_count": 16,
   "metadata": {
    "colab": {
     "base_uri": "https://localhost:8080/"
    },
    "id": "RzoqF99BGSI3",
    "outputId": "f44f93a1-6961-4315-83fc-0761733233a5"
   },
   "outputs": [
    {
     "data": {
      "text/plain": [
       "False    176\n",
       "True     122\n",
       "Name: Great, dtype: int64"
      ]
     },
     "execution_count": 16,
     "metadata": {
      "tags": []
     },
     "output_type": "execute_result"
    }
   ],
   "source": [
    "## To create basline, are more burritos great or not?\n",
    "y_train.value_counts()"
   ]
  },
  {
   "cell_type": "code",
   "execution_count": 17,
   "metadata": {
    "colab": {
     "base_uri": "https://localhost:8080/"
    },
    "id": "GNunWVk4FzbF",
    "outputId": "136c0822-8eab-43ac-d500-73e5e8f34a0b"
   },
   "outputs": [
    {
     "name": "stdout",
     "output_type": "stream",
     "text": [
      "Baseline Accuracy: 59.06%\n"
     ]
    }
   ],
   "source": [
    "## More burritos are NOT great, so that will be our baseline.\n",
    "print('Baseline Accuracy:', str(round(y_train.value_counts(normalize=True).max()*100, 2)) + '%')"
   ]
  },
  {
   "cell_type": "code",
   "execution_count": 18,
   "metadata": {
    "id": "lzr5MaUkHOQ6"
   },
   "outputs": [],
   "source": [
    "## We would have about a 60% chance of predicting correctly that a burrito would NOT be great"
   ]
  },
  {
   "cell_type": "markdown",
   "metadata": {
    "id": "izctAXSbIA74"
   },
   "source": [
    "#Build Model"
   ]
  },
  {
   "cell_type": "code",
   "execution_count": 19,
   "metadata": {
    "colab": {
     "base_uri": "https://localhost:8080/",
     "height": 0
    },
    "id": "d-QG230vH-We",
    "outputId": "1e1d94a6-1752-41c4-d154-d2105ce30f22"
   },
   "outputs": [
    {
     "data": {
      "text/html": [
       "<div>\n",
       "<style scoped>\n",
       "    .dataframe tbody tr th:only-of-type {\n",
       "        vertical-align: middle;\n",
       "    }\n",
       "\n",
       "    .dataframe tbody tr th {\n",
       "        vertical-align: top;\n",
       "    }\n",
       "\n",
       "    .dataframe thead th {\n",
       "        text-align: right;\n",
       "    }\n",
       "</style>\n",
       "<table border=\"1\" class=\"dataframe\">\n",
       "  <thead>\n",
       "    <tr style=\"text-align: right;\">\n",
       "      <th></th>\n",
       "      <th>Burrito</th>\n",
       "      <th>Yelp</th>\n",
       "      <th>Google</th>\n",
       "      <th>Chips</th>\n",
       "      <th>Cost</th>\n",
       "      <th>Hunger</th>\n",
       "      <th>Length</th>\n",
       "      <th>Circum</th>\n",
       "      <th>Volume</th>\n",
       "      <th>Tortilla</th>\n",
       "      <th>Temp</th>\n",
       "      <th>Meat</th>\n",
       "      <th>Fillings</th>\n",
       "      <th>Meat:filling</th>\n",
       "      <th>Uniformity</th>\n",
       "      <th>Salsa</th>\n",
       "      <th>Synergy</th>\n",
       "      <th>Wrap</th>\n",
       "      <th>Beef</th>\n",
       "      <th>Pico</th>\n",
       "      <th>Guac</th>\n",
       "      <th>Cheese</th>\n",
       "      <th>Fries</th>\n",
       "      <th>Sour cream</th>\n",
       "      <th>Pork</th>\n",
       "      <th>Chicken</th>\n",
       "      <th>Shrimp</th>\n",
       "      <th>Fish</th>\n",
       "      <th>Rice</th>\n",
       "      <th>Beans</th>\n",
       "      <th>Lettuce</th>\n",
       "      <th>Tomato</th>\n",
       "      <th>Bell peper</th>\n",
       "      <th>Carrots</th>\n",
       "      <th>Cabbage</th>\n",
       "      <th>Sauce</th>\n",
       "      <th>Salsa.1</th>\n",
       "      <th>Cilantro</th>\n",
       "      <th>Onion</th>\n",
       "      <th>Taquito</th>\n",
       "      <th>Pineapple</th>\n",
       "      <th>Ham</th>\n",
       "      <th>Chile relleno</th>\n",
       "      <th>Nopales</th>\n",
       "      <th>Lobster</th>\n",
       "      <th>Queso</th>\n",
       "      <th>Egg</th>\n",
       "      <th>Mushroom</th>\n",
       "      <th>Bacon</th>\n",
       "      <th>Sushi</th>\n",
       "      <th>Avocado</th>\n",
       "      <th>Corn</th>\n",
       "      <th>Zucchini</th>\n",
       "      <th>Great</th>\n",
       "    </tr>\n",
       "    <tr>\n",
       "      <th>Date</th>\n",
       "      <th></th>\n",
       "      <th></th>\n",
       "      <th></th>\n",
       "      <th></th>\n",
       "      <th></th>\n",
       "      <th></th>\n",
       "      <th></th>\n",
       "      <th></th>\n",
       "      <th></th>\n",
       "      <th></th>\n",
       "      <th></th>\n",
       "      <th></th>\n",
       "      <th></th>\n",
       "      <th></th>\n",
       "      <th></th>\n",
       "      <th></th>\n",
       "      <th></th>\n",
       "      <th></th>\n",
       "      <th></th>\n",
       "      <th></th>\n",
       "      <th></th>\n",
       "      <th></th>\n",
       "      <th></th>\n",
       "      <th></th>\n",
       "      <th></th>\n",
       "      <th></th>\n",
       "      <th></th>\n",
       "      <th></th>\n",
       "      <th></th>\n",
       "      <th></th>\n",
       "      <th></th>\n",
       "      <th></th>\n",
       "      <th></th>\n",
       "      <th></th>\n",
       "      <th></th>\n",
       "      <th></th>\n",
       "      <th></th>\n",
       "      <th></th>\n",
       "      <th></th>\n",
       "      <th></th>\n",
       "      <th></th>\n",
       "      <th></th>\n",
       "      <th></th>\n",
       "      <th></th>\n",
       "      <th></th>\n",
       "      <th></th>\n",
       "      <th></th>\n",
       "      <th></th>\n",
       "      <th></th>\n",
       "      <th></th>\n",
       "      <th></th>\n",
       "      <th></th>\n",
       "      <th></th>\n",
       "      <th></th>\n",
       "    </tr>\n",
       "  </thead>\n",
       "  <tbody>\n",
       "    <tr>\n",
       "      <th>2016-01-18</th>\n",
       "      <td>California</td>\n",
       "      <td>3.5</td>\n",
       "      <td>4.2</td>\n",
       "      <td>0</td>\n",
       "      <td>6.49</td>\n",
       "      <td>3.0</td>\n",
       "      <td>NaN</td>\n",
       "      <td>NaN</td>\n",
       "      <td>NaN</td>\n",
       "      <td>3.0</td>\n",
       "      <td>5.0</td>\n",
       "      <td>3.0</td>\n",
       "      <td>3.5</td>\n",
       "      <td>4.0</td>\n",
       "      <td>4.0</td>\n",
       "      <td>4.0</td>\n",
       "      <td>4.0</td>\n",
       "      <td>4.0</td>\n",
       "      <td>1</td>\n",
       "      <td>1</td>\n",
       "      <td>1</td>\n",
       "      <td>1</td>\n",
       "      <td>1</td>\n",
       "      <td>0</td>\n",
       "      <td>0</td>\n",
       "      <td>0</td>\n",
       "      <td>0</td>\n",
       "      <td>0</td>\n",
       "      <td>0</td>\n",
       "      <td>0</td>\n",
       "      <td>0</td>\n",
       "      <td>0</td>\n",
       "      <td>0</td>\n",
       "      <td>0</td>\n",
       "      <td>0</td>\n",
       "      <td>0</td>\n",
       "      <td>0</td>\n",
       "      <td>0</td>\n",
       "      <td>0</td>\n",
       "      <td>0</td>\n",
       "      <td>0</td>\n",
       "      <td>0</td>\n",
       "      <td>0</td>\n",
       "      <td>0</td>\n",
       "      <td>0</td>\n",
       "      <td>0</td>\n",
       "      <td>0</td>\n",
       "      <td>0</td>\n",
       "      <td>0</td>\n",
       "      <td>0</td>\n",
       "      <td>0</td>\n",
       "      <td>0</td>\n",
       "      <td>0</td>\n",
       "      <td>False</td>\n",
       "    </tr>\n",
       "    <tr>\n",
       "      <th>2016-01-24</th>\n",
       "      <td>California</td>\n",
       "      <td>3.5</td>\n",
       "      <td>3.3</td>\n",
       "      <td>0</td>\n",
       "      <td>5.45</td>\n",
       "      <td>3.5</td>\n",
       "      <td>NaN</td>\n",
       "      <td>NaN</td>\n",
       "      <td>NaN</td>\n",
       "      <td>2.0</td>\n",
       "      <td>3.5</td>\n",
       "      <td>2.5</td>\n",
       "      <td>2.5</td>\n",
       "      <td>2.0</td>\n",
       "      <td>4.0</td>\n",
       "      <td>3.5</td>\n",
       "      <td>2.5</td>\n",
       "      <td>5.0</td>\n",
       "      <td>1</td>\n",
       "      <td>1</td>\n",
       "      <td>1</td>\n",
       "      <td>1</td>\n",
       "      <td>1</td>\n",
       "      <td>0</td>\n",
       "      <td>0</td>\n",
       "      <td>0</td>\n",
       "      <td>0</td>\n",
       "      <td>0</td>\n",
       "      <td>0</td>\n",
       "      <td>0</td>\n",
       "      <td>0</td>\n",
       "      <td>0</td>\n",
       "      <td>0</td>\n",
       "      <td>0</td>\n",
       "      <td>0</td>\n",
       "      <td>0</td>\n",
       "      <td>0</td>\n",
       "      <td>0</td>\n",
       "      <td>0</td>\n",
       "      <td>0</td>\n",
       "      <td>0</td>\n",
       "      <td>0</td>\n",
       "      <td>0</td>\n",
       "      <td>0</td>\n",
       "      <td>0</td>\n",
       "      <td>0</td>\n",
       "      <td>0</td>\n",
       "      <td>0</td>\n",
       "      <td>0</td>\n",
       "      <td>0</td>\n",
       "      <td>0</td>\n",
       "      <td>0</td>\n",
       "      <td>0</td>\n",
       "      <td>False</td>\n",
       "    </tr>\n",
       "    <tr>\n",
       "      <th>2016-01-24</th>\n",
       "      <td>Carnitas</td>\n",
       "      <td>NaN</td>\n",
       "      <td>NaN</td>\n",
       "      <td>0</td>\n",
       "      <td>4.85</td>\n",
       "      <td>1.5</td>\n",
       "      <td>NaN</td>\n",
       "      <td>NaN</td>\n",
       "      <td>NaN</td>\n",
       "      <td>3.0</td>\n",
       "      <td>2.0</td>\n",
       "      <td>2.5</td>\n",
       "      <td>3.0</td>\n",
       "      <td>4.5</td>\n",
       "      <td>4.0</td>\n",
       "      <td>3.0</td>\n",
       "      <td>3.0</td>\n",
       "      <td>5.0</td>\n",
       "      <td>0</td>\n",
       "      <td>1</td>\n",
       "      <td>1</td>\n",
       "      <td>0</td>\n",
       "      <td>0</td>\n",
       "      <td>0</td>\n",
       "      <td>1</td>\n",
       "      <td>0</td>\n",
       "      <td>0</td>\n",
       "      <td>0</td>\n",
       "      <td>0</td>\n",
       "      <td>0</td>\n",
       "      <td>0</td>\n",
       "      <td>0</td>\n",
       "      <td>0</td>\n",
       "      <td>0</td>\n",
       "      <td>0</td>\n",
       "      <td>0</td>\n",
       "      <td>0</td>\n",
       "      <td>0</td>\n",
       "      <td>0</td>\n",
       "      <td>0</td>\n",
       "      <td>0</td>\n",
       "      <td>0</td>\n",
       "      <td>0</td>\n",
       "      <td>0</td>\n",
       "      <td>0</td>\n",
       "      <td>0</td>\n",
       "      <td>0</td>\n",
       "      <td>0</td>\n",
       "      <td>0</td>\n",
       "      <td>0</td>\n",
       "      <td>0</td>\n",
       "      <td>0</td>\n",
       "      <td>0</td>\n",
       "      <td>False</td>\n",
       "    </tr>\n",
       "    <tr>\n",
       "      <th>2016-01-24</th>\n",
       "      <td>Asada</td>\n",
       "      <td>NaN</td>\n",
       "      <td>NaN</td>\n",
       "      <td>0</td>\n",
       "      <td>5.25</td>\n",
       "      <td>2.0</td>\n",
       "      <td>NaN</td>\n",
       "      <td>NaN</td>\n",
       "      <td>NaN</td>\n",
       "      <td>3.0</td>\n",
       "      <td>2.0</td>\n",
       "      <td>3.5</td>\n",
       "      <td>3.0</td>\n",
       "      <td>4.0</td>\n",
       "      <td>5.0</td>\n",
       "      <td>4.0</td>\n",
       "      <td>4.0</td>\n",
       "      <td>5.0</td>\n",
       "      <td>1</td>\n",
       "      <td>1</td>\n",
       "      <td>1</td>\n",
       "      <td>0</td>\n",
       "      <td>0</td>\n",
       "      <td>0</td>\n",
       "      <td>0</td>\n",
       "      <td>0</td>\n",
       "      <td>0</td>\n",
       "      <td>0</td>\n",
       "      <td>0</td>\n",
       "      <td>0</td>\n",
       "      <td>0</td>\n",
       "      <td>0</td>\n",
       "      <td>0</td>\n",
       "      <td>0</td>\n",
       "      <td>0</td>\n",
       "      <td>0</td>\n",
       "      <td>0</td>\n",
       "      <td>0</td>\n",
       "      <td>0</td>\n",
       "      <td>0</td>\n",
       "      <td>0</td>\n",
       "      <td>0</td>\n",
       "      <td>0</td>\n",
       "      <td>0</td>\n",
       "      <td>0</td>\n",
       "      <td>0</td>\n",
       "      <td>0</td>\n",
       "      <td>0</td>\n",
       "      <td>0</td>\n",
       "      <td>0</td>\n",
       "      <td>0</td>\n",
       "      <td>0</td>\n",
       "      <td>0</td>\n",
       "      <td>False</td>\n",
       "    </tr>\n",
       "    <tr>\n",
       "      <th>2016-01-27</th>\n",
       "      <td>California</td>\n",
       "      <td>4.0</td>\n",
       "      <td>3.8</td>\n",
       "      <td>1</td>\n",
       "      <td>6.59</td>\n",
       "      <td>4.0</td>\n",
       "      <td>NaN</td>\n",
       "      <td>NaN</td>\n",
       "      <td>NaN</td>\n",
       "      <td>4.0</td>\n",
       "      <td>5.0</td>\n",
       "      <td>4.0</td>\n",
       "      <td>3.5</td>\n",
       "      <td>4.5</td>\n",
       "      <td>5.0</td>\n",
       "      <td>2.5</td>\n",
       "      <td>4.5</td>\n",
       "      <td>4.0</td>\n",
       "      <td>1</td>\n",
       "      <td>1</td>\n",
       "      <td>0</td>\n",
       "      <td>1</td>\n",
       "      <td>1</td>\n",
       "      <td>0</td>\n",
       "      <td>0</td>\n",
       "      <td>0</td>\n",
       "      <td>0</td>\n",
       "      <td>0</td>\n",
       "      <td>0</td>\n",
       "      <td>0</td>\n",
       "      <td>0</td>\n",
       "      <td>0</td>\n",
       "      <td>0</td>\n",
       "      <td>0</td>\n",
       "      <td>0</td>\n",
       "      <td>0</td>\n",
       "      <td>0</td>\n",
       "      <td>0</td>\n",
       "      <td>0</td>\n",
       "      <td>0</td>\n",
       "      <td>0</td>\n",
       "      <td>0</td>\n",
       "      <td>0</td>\n",
       "      <td>0</td>\n",
       "      <td>0</td>\n",
       "      <td>0</td>\n",
       "      <td>0</td>\n",
       "      <td>0</td>\n",
       "      <td>0</td>\n",
       "      <td>0</td>\n",
       "      <td>0</td>\n",
       "      <td>0</td>\n",
       "      <td>0</td>\n",
       "      <td>True</td>\n",
       "    </tr>\n",
       "  </tbody>\n",
       "</table>\n",
       "</div>"
      ],
      "text/plain": [
       "               Burrito  Yelp  Google  Chips  ...  Avocado  Corn  Zucchini  Great\n",
       "Date                                         ...                                \n",
       "2016-01-18  California   3.5     4.2      0  ...        0     0         0  False\n",
       "2016-01-24  California   3.5     3.3      0  ...        0     0         0  False\n",
       "2016-01-24    Carnitas   NaN     NaN      0  ...        0     0         0  False\n",
       "2016-01-24       Asada   NaN     NaN      0  ...        0     0         0  False\n",
       "2016-01-27  California   4.0     3.8      1  ...        0     0         0   True\n",
       "\n",
       "[5 rows x 54 columns]"
      ]
     },
     "execution_count": 19,
     "metadata": {
      "tags": []
     },
     "output_type": "execute_result"
    }
   ],
   "source": [
    "## Check head to choose transformers if needed.\n",
    "df.head()"
   ]
  },
  {
   "cell_type": "code",
   "execution_count": 20,
   "metadata": {
    "colab": {
     "base_uri": "https://localhost:8080/"
    },
    "id": "HYjoHEgWILjD",
    "outputId": "e3822811-72b2-4444-cfce-addce1040933"
   },
   "outputs": [
    {
     "name": "stderr",
     "output_type": "stream",
     "text": [
      "/usr/local/lib/python3.6/dist-packages/statsmodels/tools/_testing.py:19: FutureWarning: pandas.util.testing is deprecated. Use the functions in the public API at pandas.testing instead.\n",
      "  import pandas.util.testing as tm\n"
     ]
    }
   ],
   "source": [
    "## Due to NaN values, we will need Imputer; need an Encoder for 'Burrito' type; Scaler for standardization\n",
    "from sklearn.impute import SimpleImputer\n",
    "from sklearn.preprocessing import StandardScaler\n",
    "from sklearn.linear_model import LogisticRegression\n",
    "from category_encoders import OneHotEncoder\n",
    "from sklearn.pipeline import make_pipeline"
   ]
  },
  {
   "cell_type": "code",
   "execution_count": 21,
   "metadata": {
    "colab": {
     "base_uri": "https://localhost:8080/"
    },
    "id": "EgJGJh_NJHT6",
    "outputId": "47ece5d8-d75b-46cd-8046-187424522be0"
   },
   "outputs": [
    {
     "name": "stderr",
     "output_type": "stream",
     "text": [
      "/usr/local/lib/python3.6/dist-packages/category_encoders/utils.py:21: FutureWarning: is_categorical is deprecated and will be removed in a future version.  Use is_categorical_dtype instead\n",
      "  elif pd.api.types.is_categorical(cols):\n"
     ]
    }
   ],
   "source": [
    "model = make_pipeline(\n",
    "    OneHotEncoder(use_cat_names=True),\n",
    "    SimpleImputer(strategy='mean'),\n",
    "    StandardScaler(),\n",
    "    LogisticRegression()\n",
    ")\n",
    "\n",
    "model.fit(X_train, y_train);"
   ]
  },
  {
   "cell_type": "markdown",
   "metadata": {
    "id": "pd-9wVe2J3qU"
   },
   "source": [
    "#Check Metrics"
   ]
  },
  {
   "cell_type": "code",
   "execution_count": 22,
   "metadata": {
    "colab": {
     "base_uri": "https://localhost:8080/"
    },
    "id": "1iCTeeiYJtud",
    "outputId": "1837e520-37f2-46c9-a5d1-a4bcc8424cff"
   },
   "outputs": [
    {
     "name": "stdout",
     "output_type": "stream",
     "text": [
      "Training Accuracy: 93.62%\n"
     ]
    }
   ],
   "source": [
    "print('Training Accuracy:', str(round(model.score(X_train, y_train)*100, 2)) + '%')"
   ]
  },
  {
   "cell_type": "code",
   "execution_count": 23,
   "metadata": {
    "colab": {
     "base_uri": "https://localhost:8080/"
    },
    "id": "ScfzJIqDKIhS",
    "outputId": "cf387774-7f4f-43bc-8247-89f9d2a1eb28"
   },
   "outputs": [
    {
     "name": "stdout",
     "output_type": "stream",
     "text": [
      "Validation Accuracy: 75.29%\n"
     ]
    }
   ],
   "source": [
    "print('Validation Accuracy:', str(round(model.score(X_val, y_val)*100, 2)) + '%')"
   ]
  },
  {
   "cell_type": "code",
   "execution_count": 24,
   "metadata": {
    "colab": {
     "base_uri": "https://localhost:8080/"
    },
    "id": "jLycHgXAKPVI",
    "outputId": "a6d6d5f3-e001-4124-d994-b1a525172400"
   },
   "outputs": [
    {
     "name": "stdout",
     "output_type": "stream",
     "text": [
      "Test Accuracy: 73.68%\n"
     ]
    }
   ],
   "source": [
    "print('Test Accuracy:', str(round(model.score(X_test, y_test)*100, 2)) + '%')"
   ]
  },
  {
   "cell_type": "markdown",
   "metadata": {
    "id": "xnMiEQe5K_tN"
   },
   "source": [
    "#Visualizations"
   ]
  },
  {
   "cell_type": "code",
   "execution_count": 25,
   "metadata": {
    "colab": {
     "base_uri": "https://localhost:8080/"
    },
    "id": "hydWmHINNdsZ",
    "outputId": "9a0fb6a7-c253-4947-fe03-1e6be3687965"
   },
   "outputs": [
    {
     "data": {
      "text/plain": [
       "[('onehotencoder',\n",
       "  OneHotEncoder(cols=['Burrito'], drop_invariant=False, handle_missing='value',\n",
       "                handle_unknown='value', return_df=True, use_cat_names=True,\n",
       "                verbose=0)),\n",
       " ('simpleimputer',\n",
       "  SimpleImputer(add_indicator=False, copy=True, fill_value=None,\n",
       "                missing_values=nan, strategy='mean', verbose=0)),\n",
       " ('standardscaler', StandardScaler(copy=True, with_mean=True, with_std=True)),\n",
       " ('logisticregression',\n",
       "  LogisticRegression(C=1.0, class_weight=None, dual=False, fit_intercept=True,\n",
       "                     intercept_scaling=1, l1_ratio=None, max_iter=100,\n",
       "                     multi_class='auto', n_jobs=None, penalty='l2',\n",
       "                     random_state=None, solver='lbfgs', tol=0.0001, verbose=0,\n",
       "                     warm_start=False))]"
      ]
     },
     "execution_count": 25,
     "metadata": {
      "tags": []
     },
     "output_type": "execute_result"
    }
   ],
   "source": [
    "## Look at each pipeline step\n",
    "model.steps"
   ]
  },
  {
   "cell_type": "code",
   "execution_count": 26,
   "metadata": {
    "id": "HTQCezHdNlis"
   },
   "outputs": [],
   "source": [
    "## Assign each model step to a variable to access parameters later\n",
    "def params():\n",
    "  steps = []\n",
    "  for i in range(0, len(model.steps)):\n",
    "    steps.append(model.steps[i][1])\n",
    "\n",
    "  return steps\n",
    "\n",
    "ohe, imp, scale, lr = params()"
   ]
  },
  {
   "cell_type": "code",
   "execution_count": 51,
   "metadata": {
    "id": "8A-8OP_DKYra"
   },
   "outputs": [],
   "source": [
    "## To graph importance of features, retrieve column names and corresponding coefficients\n",
    "coefficients = lr.coef_[0]\n",
    "col_names = ohe.get_feature_names()"
   ]
  },
  {
   "cell_type": "code",
   "execution_count": 54,
   "metadata": {
    "colab": {
     "base_uri": "https://localhost:8080/",
     "height": 295
    },
    "id": "W0N0ULN6LHK5",
    "outputId": "f0472072-a112-4f19-bcda-d2c36162b122"
   },
   "outputs": [
    {
     "data": {
      "image/png": "[encoded data removed]",
      "text/plain": [
       "<Figure size 432x288 with 1 Axes>"
      ]
     },
     "metadata": {
      "needs_background": "light",
      "tags": []
     },
     "output_type": "display_data"
    }
   ],
   "source": [
    "import matplotlib.pyplot as plt\n",
    "\n",
    "feat_imp = pd.Series(data=coefficients, index=col_names)\n",
    "feat_imp.sort_values(key=lambda x: abs(x), inplace=True) # Sort values by absolute value so strength is shown and not pos/neg\n",
    "feat_imp.tail(10).plot(kind='barh')\n",
    "plt.xlabel('Star Rating')\n",
    "plt.title('Influence of Star Rating by Feature')\n",
    "plt.show()"
   ]
  },
  {
   "cell_type": "markdown",
   "metadata": {
    "id": "mw2ksvRKdWdX"
   },
   "source": [
    "##Conclusions:\n",
    "\n",
    "- By the means of my model, Synergy has the strongest influence in someone deciding whether a burrito is great (a 4-star rating or higher) or not.\n",
    "\n",
    "- This means that a high level of flavor synergy in a burrito can cause nearly a 2-star positive shift in someone's overall burrito rating.\n",
    "\n",
    "- Where's the beef!? Because apparantly, that is the next most crucial topic.\n",
    "\n",
    "- Relating to metrics, our model fit the training data extremely well, but lowered once it was introduced to the validation data. It countinued to lower just a tad more when predicting for test data.\n"
   ]
  }
 ],
 "metadata": {
  "colab": {
   "name": "LS_DS_214_assignment.ipynb",
   "provenance": []
  },
  "kernelspec": {
   "display_name": "Python 3",
   "language": "python",
   "name": "python3"
  },
  "language_info": {
   "codemirror_mode": {
    "name": "ipython",
    "version": 3
   },
   "file_extension": ".py",
   "mimetype": "text/x-python",
   "name": "python",
   "nbconvert_exporter": "python",
   "pygments_lexer": "ipython3",
   "version": "3.7.9"
  }
 },
 "nbformat": 4,
 "nbformat_minor": 1
}
